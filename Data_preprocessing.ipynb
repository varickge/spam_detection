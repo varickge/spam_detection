{
 "cells": [
  {
   "cell_type": "code",
   "execution_count": 39,
   "id": "096ab379",
   "metadata": {},
   "outputs": [],
   "source": [
    "import pandas as pd"
   ]
  },
  {
   "cell_type": "code",
   "execution_count": 40,
   "id": "e3749449",
   "metadata": {},
   "outputs": [],
   "source": [
    "df_spam = pd.read_csv(\"./data/spam.csv\", encoding=\"ISO-8859-1\")\n",
    "df_spam = df_spam.drop(columns=[\"Unnamed: 2\", \"Unnamed: 3\", \"Unnamed: 4\"])\n",
    "df_spam = df_spam.rename(columns={\"v1\": \"ham_spam\", \"v2\": \"text\"})\n",
    "df_spam[\"ham_spam_encoded\"] = df_spam[\"ham_spam\"].map({\"ham\": 0, \"spam\": 1})\n",
    "df_spam.drop(columns=\"ham_spam\", inplace=True)"
   ]
  },
  {
   "cell_type": "code",
   "execution_count": 43,
   "id": "1d315b3e",
   "metadata": {},
   "outputs": [],
   "source": [
    "df_spam.to_csv(\"./data/spam_preprocessed.csv\", index=False)"
   ]
  }
 ],
 "metadata": {
  "kernelspec": {
   "display_name": "Python 3 (ipykernel)",
   "language": "python",
   "name": "python3"
  },
  "language_info": {
   "codemirror_mode": {
    "name": "ipython",
    "version": 3
   },
   "file_extension": ".py",
   "mimetype": "text/x-python",
   "name": "python",
   "nbconvert_exporter": "python",
   "pygments_lexer": "ipython3",
   "version": "3.10.12"
  }
 },
 "nbformat": 4,
 "nbformat_minor": 5
}
