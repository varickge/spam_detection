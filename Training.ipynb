{
 "cells": [
  {
   "cell_type": "code",
   "execution_count": 1,
   "id": "2e4b5cf5",
   "metadata": {},
   "outputs": [],
   "source": [
    "from utils import *\n",
    "import numpy as np\n",
    "import os\n",
    "import matplotlib.pyplot as plt\n",
    "from transformers import AutoTokenizer, BertModel, logging\n",
    "logging.set_verbosity_error()"
   ]
  },
  {
   "cell_type": "markdown",
   "id": "de0f0795",
   "metadata": {},
   "source": [
    "### Open the preprocessed data, split into train, val and test"
   ]
  },
  {
   "cell_type": "code",
   "execution_count": 2,
   "id": "a1036e0c",
   "metadata": {},
   "outputs": [
    {
     "name": "stdout",
     "output_type": "stream",
     "text": [
      "(5735, 2) (638, 2) (160, 2)\n"
     ]
    }
   ],
   "source": [
    "data = pd.read_csv(\"./data/spam_preprocessed.csv\")\n",
    "test_data=pd.read_csv(\"./data/test_data.csv\")\n",
    "gen_train=pd.read_csv(\"./data/generated_train_data.csv\")\n",
    "data=pd.concat([data, gen_train], ignore_index=True).sample(frac=1).reset_index(drop=True, )\n",
    "train_data, val_data = train_test_split(data, test_size=0.1, random_state=2023)\n",
    "\n",
    "print(train_data.shape, val_data.shape,test_data.shape)"
   ]
  },
  {
   "cell_type": "markdown",
   "id": "0f3edac2",
   "metadata": {},
   "source": [
    "### Initialize embedding model"
   ]
  },
  {
   "cell_type": "code",
   "execution_count": 3,
   "id": "0b03612b",
   "metadata": {},
   "outputs": [],
   "source": [
    "embedding_model = BertModel.from_pretrained(\n",
    "    \"bert-base-uncased\", output_hidden_states=True\n",
    ")"
   ]
  },
  {
   "cell_type": "markdown",
   "id": "ce8cc0d7",
   "metadata": {},
   "source": [
    "### Get embeddings from from the data"
   ]
  },
  {
   "cell_type": "code",
   "execution_count": 4,
   "id": "8b0a2e76",
   "metadata": {},
   "outputs": [
    {
     "name": "stderr",
     "output_type": "stream",
     "text": [
      "/home/server3090ti/anaconda3/envs/tf/lib/python3.9/site-packages/transformers/tokenization_utils_base.py:2372: UserWarning: `max_length` is ignored when `padding`=`True` and there is no truncation strategy. To pad to max length, use `padding='max_length'`.\n",
      "  warnings.warn(\n"
     ]
    }
   ],
   "source": [
    "X_train = create_embeddings(list(train_data[\"text\"].values), embedding_model)\n",
    "X_val = create_embeddings(list(val_data[\"text\"].values), embedding_model)\n",
    "X_test = create_embeddings(list(test_data[\"text\"].values), embedding_model)\n",
    "\n",
    "y_train = train_data[\"ham_spam_encoded\"]\n",
    "y_test = test_data[\"ham_spam_encoded\"]\n",
    "y_val = val_data[\"ham_spam_encoded\"]"
   ]
  },
  {
   "cell_type": "code",
   "execution_count": 5,
   "id": "2e0d4eed",
   "metadata": {},
   "outputs": [],
   "source": [
    "# creating fc model and weights\n",
    "model_fc = fc_model_softmax(input_num=768)\n",
    "weights_path = f\"model/model.hdf5\"  # path where will save model weights\n",
    "model_fc.save_weights(\n",
    "    weights_path\n",
    ")  \n",
    "# if we want to cancel learning and start from 0, if not comment the line\n",
    "model_fc.load_weights(weights_path)"
   ]
  },
  {
   "cell_type": "code",
   "execution_count": 6,
   "id": "d5722d41",
   "metadata": {},
   "outputs": [],
   "source": [
    "# defining epochs count, batch size and learning rate\n",
    "epochs = 15\n",
    "batch_size = 64\n",
    "learning_rate = 0.001"
   ]
  },
  {
   "cell_type": "code",
   "execution_count": 7,
   "id": "6f64e818",
   "metadata": {},
   "outputs": [],
   "source": [
    "X_test = to_tf(X_test)\n",
    "X_train = to_tf(X_train)\n",
    "X_val = to_tf(X_val)"
   ]
  },
  {
   "cell_type": "code",
   "execution_count": 8,
   "id": "478f5fc2",
   "metadata": {
    "scrolled": true
   },
   "outputs": [
    {
     "name": "stdout",
     "output_type": "stream",
     "text": [
      "Epoch 1/15\n",
      "76/90 [========================>.....] - ETA: 0s - loss: 0.2961\n",
      "Epoch 1: val_loss improved from inf to 0.10147, saving model to model/model.hdf5\n",
      "90/90 [==============================] - 2s 5ms/step - loss: 0.2673 - val_loss: 0.1015\n",
      "Epoch 2/15\n",
      "76/90 [========================>.....] - ETA: 0s - loss: 0.0769\n",
      "Epoch 2: val_loss improved from 0.10147 to 0.04855, saving model to model/model.hdf5\n",
      "90/90 [==============================] - 0s 4ms/step - loss: 0.0732 - val_loss: 0.0486\n",
      "Epoch 3/15\n",
      "80/90 [=========================>....] - ETA: 0s - loss: 0.0459\n",
      "Epoch 3: val_loss improved from 0.04855 to 0.04608, saving model to model/model.hdf5\n",
      "90/90 [==============================] - 0s 4ms/step - loss: 0.0466 - val_loss: 0.0461\n",
      "Epoch 4/15\n",
      "78/90 [=========================>....] - ETA: 0s - loss: 0.0424\n",
      "Epoch 4: val_loss did not improve from 0.04608\n",
      "90/90 [==============================] - 0s 4ms/step - loss: 0.0418 - val_loss: 0.0581\n",
      "Epoch 5/15\n",
      "90/90 [==============================] - ETA: 0s - loss: 0.0392\n",
      "Epoch 5: val_loss did not improve from 0.04608\n",
      "90/90 [==============================] - 0s 4ms/step - loss: 0.0392 - val_loss: 0.0507\n",
      "Epoch 6/15\n",
      "80/90 [=========================>....] - ETA: 0s - loss: 0.0310\n",
      "Epoch 6: val_loss did not improve from 0.04608\n",
      "90/90 [==============================] - 0s 4ms/step - loss: 0.0306 - val_loss: 0.0890\n",
      "Epoch 7/15\n",
      "78/90 [=========================>....] - ETA: 0s - loss: 0.0250\n",
      "Epoch 7: val_loss improved from 0.04608 to 0.04062, saving model to model/model.hdf5\n",
      "90/90 [==============================] - 0s 4ms/step - loss: 0.0260 - val_loss: 0.0406\n",
      "Epoch 8/15\n",
      "76/90 [========================>.....] - ETA: 0s - loss: 0.0234\n",
      "Epoch 8: val_loss improved from 0.04062 to 0.03209, saving model to model/model.hdf5\n",
      "90/90 [==============================] - 0s 4ms/step - loss: 0.0239 - val_loss: 0.0321\n",
      "Epoch 9/15\n",
      "78/90 [=========================>....] - ETA: 0s - loss: 0.0249\n",
      "Epoch 9: val_loss did not improve from 0.03209\n",
      "90/90 [==============================] - 0s 4ms/step - loss: 0.0230 - val_loss: 0.0661\n",
      "Epoch 10/15\n",
      "89/90 [============================>.] - ETA: 0s - loss: 0.0260\n",
      "Epoch 10: val_loss did not improve from 0.03209\n",
      "90/90 [==============================] - 0s 4ms/step - loss: 0.0258 - val_loss: 0.0360\n",
      "Epoch 11/15\n",
      "80/90 [=========================>....] - ETA: 0s - loss: 0.0274\n",
      "Epoch 11: val_loss did not improve from 0.03209\n",
      "90/90 [==============================] - 0s 4ms/step - loss: 0.0261 - val_loss: 0.0456\n",
      "Epoch 12/15\n",
      "76/90 [========================>.....] - ETA: 0s - loss: 0.0217\n",
      "Epoch 12: val_loss did not improve from 0.03209\n",
      "90/90 [==============================] - 0s 4ms/step - loss: 0.0221 - val_loss: 0.0524\n",
      "Epoch 13/15\n",
      "86/90 [===========================>..] - ETA: 0s - loss: 0.0140\n",
      "Epoch 13: val_loss did not improve from 0.03209\n",
      "90/90 [==============================] - 0s 3ms/step - loss: 0.0137 - val_loss: 0.0497\n",
      "Epoch 14/15\n",
      "87/90 [============================>.] - ETA: 0s - loss: 0.0136\n",
      "Epoch 14: val_loss did not improve from 0.03209\n",
      "90/90 [==============================] - 0s 5ms/step - loss: 0.0134 - val_loss: 0.0436\n",
      "Epoch 15/15\n",
      "88/90 [============================>.] - ETA: 0s - loss: 0.0126\n",
      "Epoch 15: val_loss did not improve from 0.03209\n",
      "90/90 [==============================] - 0s 3ms/step - loss: 0.0129 - val_loss: 0.0528\n"
     ]
    }
   ],
   "source": [
    "data = (X_train, X_val, y_train, y_val)\n",
    "history = trainer(\n",
    "    model_fc, data, weights_path, batch_size, epochs, learning_rate=learning_rate\n",
    ")"
   ]
  },
  {
   "cell_type": "code",
   "execution_count": 9,
   "id": "6e0cf313",
   "metadata": {},
   "outputs": [
    {
     "name": "stdout",
     "output_type": "stream",
     "text": [
      "----- Accuracy = \t93.75% -----\n",
      "----- Precision = \t97.30% -----\n",
      "----- Recall =  \t90.00% -----\n"
     ]
    }
   ],
   "source": [
    "tp, tn, fp, fn = get_metrics(model_fc, weights_path, X_test, y_test)\n",
    "\n",
    "print(f\"----- Accuracy = \\t{(tp+tn)/(tp + tn + fp + fn):.2%} -----\")\n",
    "print(f\"----- Precision = \\t{tp/(tp + fp):.2%} -----\")\n",
    "print(f\"----- Recall =  \\t{tp/(tp + fn):.2%} -----\")"
   ]
  },
  {
   "cell_type": "markdown",
   "id": "3d40491c",
   "metadata": {},
   "source": [
    "### Training and validation loss"
   ]
  },
  {
   "cell_type": "code",
   "execution_count": 10,
   "id": "02e89dac",
   "metadata": {},
   "outputs": [
    {
     "data": {
      "image/png": "[encoded data removed]",
      "text/plain": [
       "<Figure size 640x480 with 1 Axes>"
      ]
     },
     "metadata": {},
     "output_type": "display_data"
    }
   ],
   "source": [
    "plt.plot(history.history[\"loss\"])\n",
    "plt.plot(history.history[\"val_loss\"])\n",
    "plt.legend([\"train\", \"val\"])\n",
    "plt.xlabel(\"epochs\")\n",
    "plt.ylabel(\"value\")\n",
    "plt.show()"
   ]
  },
  {
   "cell_type": "markdown",
   "id": "685809fd",
   "metadata": {},
   "source": [
    "### Confusion matrix"
   ]
  },
  {
   "cell_type": "code",
   "execution_count": 11,
   "id": "14c5faae",
   "metadata": {},
   "outputs": [
    {
     "data": {
      "image/png": "[encoded data removed]",
      "text/plain": [
       "<Figure size 600x400 with 2 Axes>"
      ]
     },
     "metadata": {},
     "output_type": "display_data"
    }
   ],
   "source": [
    "confusion_matrix = np.array([[tn, fp], [fn, tp]])\n",
    "\n",
    "plt.figure(figsize=(6, 4))\n",
    "class_labels = [\"ham\", \"spam\"]\n",
    "sns.heatmap(\n",
    "    confusion_matrix,\n",
    "    annot=True,\n",
    "    fmt=\"d\",\n",
    "    cmap=\"Blues\",\n",
    "    xticklabels=class_labels,\n",
    "    yticklabels=class_labels,\n",
    ")\n",
    "plt.show()"
   ]
  }
 ],
 "metadata": {
  "kernelspec": {
   "display_name": "Python 3 (ipykernel)",
   "language": "python",
   "name": "python3"
  },
  "language_info": {
   "codemirror_mode": {
    "name": "ipython",
    "version": 3
   },
   "file_extension": ".py",
   "mimetype": "text/x-python",
   "name": "python",
   "nbconvert_exporter": "python",
   "pygments_lexer": "ipython3",
   "version": "3.9.7"
  }
 },
 "nbformat": 4,
 "nbformat_minor": 5
}
